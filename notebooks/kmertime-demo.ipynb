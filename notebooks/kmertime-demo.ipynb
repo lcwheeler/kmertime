{
 "cells": [
  {
   "cell_type": "markdown",
   "metadata": {},
   "source": [
    "# Demo of kmertime workflow"
   ]
  },
  {
   "cell_type": "code",
   "execution_count": 1,
   "metadata": {},
   "outputs": [],
   "source": [
    "from kmertime import KmerSet\n",
    "from kmertime.utils import generate_seqs"
   ]
  },
  {
   "cell_type": "markdown",
   "metadata": {},
   "source": [
    "### Use the generate_seqs function to create a list of random sequences"
   ]
  },
  {
   "cell_type": "code",
   "execution_count": 2,
   "metadata": {},
   "outputs": [
    {
     "name": "stdout",
     "output_type": "stream",
     "text": [
      "CPU times: user 30.7 s, sys: 2.53 s, total: 33.2 s\n",
      "Wall time: 33.2 s\n"
     ]
    }
   ],
   "source": [
    "%time seqs = generate_seqs(alphabet=[\"A\", \"C\", \"T\", \"G\"], num_seqs=10000, length=10000)"
   ]
  },
  {
   "cell_type": "markdown",
   "metadata": {},
   "source": [
    "### Generate a \"test\" KmerSet object and count kmers in the simulated sequence data\n",
    "10,000 random sequences, 10,000 base pairs each (100,000,000 total bases)"
   ]
  },
  {
   "cell_type": "code",
   "execution_count": 3,
   "metadata": {},
   "outputs": [],
   "source": [
    "test = KmerSet()"
   ]
  },
  {
   "cell_type": "code",
   "execution_count": 4,
   "metadata": {},
   "outputs": [
    {
     "name": "stdout",
     "output_type": "stream",
     "text": [
      "CPU times: user 22.5 s, sys: 57.2 ms, total: 22.5 s\n",
      "Wall time: 22.4 s\n"
     ]
    }
   ],
   "source": [
    "# Count all 3-mers in the random dataset\n",
    "%time test.from_list(seqs, 3)"
   ]
  },
  {
   "cell_type": "code",
   "execution_count": 5,
   "metadata": {},
   "outputs": [
    {
     "name": "stdout",
     "output_type": "stream",
     "text": [
      "The total number of kmers is 64\n",
      "\n",
      "defaultdict(<class 'int'>, {'GAA': 1561709, 'AAT': 1560412, 'ATG': 1562081, 'TGG': 1561668, 'GGG': 1559528, 'GGA': 1560863, 'GAC': 1561817, 'ACG': 1561202, 'CGT': 1563911, 'GTC': 1562950, 'TCA': 1561343, 'CAA': 1561729, 'AAG': 1562879, 'AGG': 1564393, 'AAA': 1560820, 'AGC': 1562537, 'GCC': 1560966, 'CCG': 1562160, 'CGC': 1562677, 'CCA': 1561482, 'CAG': 1563312, 'AGT': 1560712, 'GTG': 1563651, 'TGT': 1562196, 'GTA': 1560052, 'TAT': 1563351, 'TAC': 1562277, 'ACA': 1561124, 'CAT': 1562894, 'ATT': 1563685, 'TTA': 1564185, 'TAG': 1560633, 'GCT': 1562135, 'CTT': 1563163, 'TAA': 1560966, 'AAC': 1561132, 'CGA': 1562079, 'ACT': 1561731, 'CTA': 1561553, 'AGA': 1559736, 'ATC': 1561855, 'TCG': 1563072, 'TTT': 1561594, 'ATA': 1561461, 'GGC': 1563174, 'CTG': 1560708, 'GAG': 1560565, 'TCC': 1562374, 'CCC': 1559713, 'CCT': 1560946, 'TTC': 1562496, 'TGA': 1563811, 'ACC': 1561272, 'GAT': 1562419, 'TGC': 1562671, 'TTG': 1563906, 'CAC': 1560074, 'GCA': 1564096, 'CGG': 1561592, 'GGT': 1563612, 'GCG': 1563830, 'GTT': 1563751, 'TCT': 1561928, 'CTC': 1561386})\n"
     ]
    }
   ],
   "source": [
    "print(\"The total number of kmers is \" + str(len(test.kmer_dict))+\"\\n\")\n",
    "print(test.kmer_dict)"
   ]
  },
  {
   "cell_type": "code",
   "execution_count": null,
   "metadata": {},
   "outputs": [],
   "source": []
  },
  {
   "cell_type": "code",
   "execution_count": null,
   "metadata": {},
   "outputs": [],
   "source": []
  }
 ],
 "metadata": {
  "kernelspec": {
   "display_name": "Python 3",
   "language": "python",
   "name": "python3"
  },
  "language_info": {
   "codemirror_mode": {
    "name": "ipython",
    "version": 3
   },
   "file_extension": ".py",
   "mimetype": "text/x-python",
   "name": "python",
   "nbconvert_exporter": "python",
   "pygments_lexer": "ipython3",
   "version": "3.6.3"
  }
 },
 "nbformat": 4,
 "nbformat_minor": 2
}
