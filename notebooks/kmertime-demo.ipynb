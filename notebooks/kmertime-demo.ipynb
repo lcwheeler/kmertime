{
 "cells": [
  {
   "cell_type": "markdown",
   "metadata": {},
   "source": [
    "# Demo of kmertime workflow"
   ]
  },
  {
   "cell_type": "code",
   "execution_count": 1,
   "metadata": {},
   "outputs": [],
   "source": [
    "from kmertime import KmerSet\n",
    "from kmertime.utils import generate_seqs"
   ]
  },
  {
   "cell_type": "markdown",
   "metadata": {},
   "source": [
    "### Use the generate_seqs function to create a list of random sequences"
   ]
  },
  {
   "cell_type": "code",
   "execution_count": 2,
   "metadata": {},
   "outputs": [
    {
     "name": "stdout",
     "output_type": "stream",
     "text": [
      "CPU times: user 27.4 s, sys: 2.19 s, total: 29.6 s\n",
      "Wall time: 29.6 s\n"
     ]
    }
   ],
   "source": [
    "%time seqs = generate_seqs(alphabet=[\"A\", \"C\", \"T\", \"G\"], num_seqs=10000, length=10000)"
   ]
  },
  {
   "cell_type": "markdown",
   "metadata": {},
   "source": [
    "### Generate a \"test\" KmerSet object and count kmers in the simulated sequence data\n",
    "10,000 random sequences, 10,000 base pairs each (100,000,000 total bases)"
   ]
  },
  {
   "cell_type": "code",
   "execution_count": 3,
   "metadata": {},
   "outputs": [],
   "source": [
    "test = KmerSet()"
   ]
  },
  {
   "cell_type": "code",
   "execution_count": 4,
   "metadata": {},
   "outputs": [
    {
     "name": "stdout",
     "output_type": "stream",
     "text": [
      "CPU times: user 26.8 s, sys: 0 ns, total: 26.8 s\n",
      "Wall time: 26.8 s\n"
     ]
    }
   ],
   "source": [
    "# Count all 3-mers in the random dataset\n",
    "%time test.from_list(seqs, 3)"
   ]
  },
  {
   "cell_type": "code",
   "execution_count": 13,
   "metadata": {},
   "outputs": [
    {
     "name": "stdout",
     "output_type": "stream",
     "text": [
      "The total number of kmers is 64\n",
      "\n",
      "defaultdict(<class 'int'>, {'CCC': 1562072, 'CCG': 1561532, 'CGG': 1558930, 'GGA': 1559334, 'GAC': 1562467, 'ACT': 1560813, 'CTG': 1562341, 'TGT': 1562303, 'GTA': 1561751, 'TAA': 1563214, 'AAA': 1562421, 'AAC': 1561086, 'ACA': 1561054, 'CAT': 1563466, 'ATA': 1563044, 'AAT': 1563553, 'ATG': 1559588, 'TGA': 1561204, 'GAG': 1561104, 'AGT': 1562882, 'GTG': 1562173, 'TGC': 1560648, 'GCC': 1560141, 'GGG': 1559382, 'AGC': 1560912, 'GCT': 1560566, 'CTT': 1559318, 'TTG': 1563026, 'TAG': 1563143, 'AGG': 1561527, 'GGC': 1562010, 'CCA': 1563380, 'CAA': 1562104, 'AAG': 1562532, 'GTC': 1563247, 'TCA': 1562237, 'CAC': 1562874, 'GCG': 1562270, 'CGT': 1563125, 'ATC': 1562776, 'TCC': 1562737, 'ACC': 1562929, 'CTA': 1562477, 'TAC': 1562176, 'TGG': 1562976, 'GGT': 1562071, 'GTT': 1563175, 'TTT': 1562158, 'TTA': 1562601, 'TTC': 1561666, 'TCG': 1560839, 'CGC': 1562960, 'CTC': 1560559, 'GAT': 1561887, 'TCT': 1562475, 'TAT': 1561332, 'CAG': 1561858, 'AGA': 1563297, 'ATT': 1564855, 'ACG': 1563801, 'CGA': 1563437, 'CCT': 1560834, 'GCA': 1563561, 'GAA': 1561789})\n"
     ]
    }
   ],
   "source": [
    "print(\"The total number of kmers is \" + str(len(test.kmer_dict))+\"\\n\")\n",
    "print(test.kmer_dict)"
   ]
  },
  {
   "cell_type": "code",
   "execution_count": null,
   "metadata": {},
   "outputs": [],
   "source": []
  }
 ],
 "metadata": {
  "kernelspec": {
   "display_name": "Python 3",
   "language": "python",
   "name": "python3"
  },
  "language_info": {
   "codemirror_mode": {
    "name": "ipython",
    "version": 3
   },
   "file_extension": ".py",
   "mimetype": "text/x-python",
   "name": "python",
   "nbconvert_exporter": "python",
   "pygments_lexer": "ipython3",
   "version": "3.6.3"
  }
 },
 "nbformat": 4,
 "nbformat_minor": 2
}
