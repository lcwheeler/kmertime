{
 "cells": [
  {
   "cell_type": "markdown",
   "metadata": {},
   "source": [
    "# Demo of kmertime workflow"
   ]
  },
  {
   "cell_type": "code",
   "execution_count": 1,
   "metadata": {},
   "outputs": [],
   "source": [
    "from kmertime import KmerSet\n",
    "from kmertime.utils import generate_seqs"
   ]
  },
  {
   "cell_type": "markdown",
   "metadata": {},
   "source": [
    "### Use the generate_seqs function to create a list of random sequences"
   ]
  },
  {
   "cell_type": "code",
   "execution_count": 2,
   "metadata": {},
   "outputs": [
    {
     "name": "stdout",
     "output_type": "stream",
     "text": [
      "CPU times: user 30 s, sys: 2.41 s, total: 32.4 s\n",
      "Wall time: 32.4 s\n"
     ]
    }
   ],
   "source": [
    "%time seqs = generate_seqs(alphabet=[\"A\", \"C\", \"T\", \"G\"], num_seqs=10000, length=10000)"
   ]
  },
  {
   "cell_type": "markdown",
   "metadata": {},
   "source": [
    "### Generate a \"test\" KmerSet object and count kmers in the simulated sequence data\n",
    "10,000 random sequences, 10,000 base pairs each (100,000,000 total bases)"
   ]
  },
  {
   "cell_type": "code",
   "execution_count": 15,
   "metadata": {},
   "outputs": [],
   "source": [
    "test = KmerSet()"
   ]
  },
  {
   "cell_type": "code",
   "execution_count": 16,
   "metadata": {},
   "outputs": [
    {
     "name": "stdout",
     "output_type": "stream",
     "text": [
      "CPU times: user 26.4 s, sys: 37.2 ms, total: 26.5 s\n",
      "Wall time: 26.3 s\n"
     ]
    }
   ],
   "source": [
    "# Count all 3-mers in the random dataset\n",
    "%time test.from_list(seqs, 3)"
   ]
  },
  {
   "cell_type": "code",
   "execution_count": 17,
   "metadata": {},
   "outputs": [
    {
     "name": "stdout",
     "output_type": "stream",
     "text": [
      "The total number of kmers is 64\n",
      "\n",
      "defaultdict(<class 'int'>, {'ATC': 1562528, 'TCA': 1562041, 'CAA': 1561571, 'AAC': 1562049, 'ACC': 1561699, 'CCG': 1558626, 'CGA': 1560609, 'GAA': 1561511, 'AAA': 1559190, 'ACA': 1564740, 'CAT': 1562397, 'ATG': 1562439, 'TGT': 1562247, 'GTG': 1562157, 'TGA': 1563076, 'GAT': 1562174, 'TCG': 1561575, 'CGT': 1561738, 'GTT': 1561546, 'TTT': 1562663, 'TTA': 1563824, 'TAC': 1564394, 'ACT': 1563245, 'CTT': 1564319, 'TAG': 1563009, 'AGC': 1561683, 'GCA': 1560643, 'TGC': 1561601, 'GCG': 1561384, 'CGG': 1560874, 'GGA': 1562280, 'ATA': 1561426, 'CCT': 1563883, 'CTC': 1561672, 'GAG': 1561002, 'GCC': 1560391, 'CTG': 1562141, 'AGA': 1562775, 'AGT': 1561010, 'GCT': 1563040, 'CCA': 1561956, 'CAG': 1563088, 'AGG': 1561724, 'GGC': 1560728, 'CGC': 1561433, 'CCC': 1562511, 'GGT': 1561980, 'GTA': 1562550, 'CAC': 1562265, 'GTC': 1560754, 'TCT': 1560902, 'CTA': 1562944, 'TAA': 1560496, 'AAT': 1561446, 'TGG': 1562345, 'GAC': 1564020, 'ACG': 1563033, 'ATT': 1562494, 'TTC': 1562016, 'TCC': 1562366, 'AAG': 1560098, 'GGG': 1562301, 'TTG': 1562519, 'TAT': 1562859})\n"
     ]
    }
   ],
   "source": [
    "print(\"The total number of kmers is \" + str(len(test.kmer_dict))+\"\\n\")\n",
    "print(test.kmer_dict)"
   ]
  },
  {
   "cell_type": "code",
   "execution_count": null,
   "metadata": {},
   "outputs": [],
   "source": []
  }
 ],
 "metadata": {
  "kernelspec": {
   "display_name": "Python 3",
   "language": "python",
   "name": "python3"
  },
  "language_info": {
   "codemirror_mode": {
    "name": "ipython",
    "version": 3
   },
   "file_extension": ".py",
   "mimetype": "text/x-python",
   "name": "python",
   "nbconvert_exporter": "python",
   "pygments_lexer": "ipython3",
   "version": "3.6.3"
  }
 },
 "nbformat": 4,
 "nbformat_minor": 2
}
