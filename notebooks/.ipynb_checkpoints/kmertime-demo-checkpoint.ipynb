{
 "cells": [
  {
   "cell_type": "markdown",
   "metadata": {},
   "source": [
    "# Demo of kmertime workflow"
   ]
  },
  {
   "cell_type": "code",
   "execution_count": 1,
   "metadata": {},
   "outputs": [],
   "source": [
    "from kmertime import KmerSet\n",
    "from kmertime.utils import generate_seqs"
   ]
  },
  {
   "cell_type": "markdown",
   "metadata": {},
   "source": [
    "### Use the generate_seqs function to create a list of random sequences"
   ]
  },
  {
   "cell_type": "code",
   "execution_count": 2,
   "metadata": {},
   "outputs": [
    {
     "name": "stdout",
     "output_type": "stream",
     "text": [
      "CPU times: user 30.9 s, sys: 2.36 s, total: 33.2 s\n",
      "Wall time: 33.2 s\n"
     ]
    }
   ],
   "source": [
    "%time seqs = generate_seqs(alphabet=[\"A\", \"C\", \"T\", \"G\"], num_seqs=10000, length=10000)"
   ]
  },
  {
   "cell_type": "markdown",
   "metadata": {},
   "source": [
    "### Generate a \"test\" KmerSet object and count kmers in the simulated sequence data\n",
    "10,000 random sequences, 10,000 base pairs each (100,000,000 total bases)"
   ]
  },
  {
   "cell_type": "code",
   "execution_count": 3,
   "metadata": {},
   "outputs": [],
   "source": [
    "test = KmerSet()"
   ]
  },
  {
   "cell_type": "code",
   "execution_count": 4,
   "metadata": {},
   "outputs": [
    {
     "name": "stdout",
     "output_type": "stream",
     "text": [
      "CPU times: user 22.5 s, sys: 80.7 ms, total: 22.6 s\n",
      "Wall time: 22.5 s\n"
     ]
    }
   ],
   "source": [
    "# Count all 3-mers in the random dataset\n",
    "%time test.from_list(seqs, 3)"
   ]
  },
  {
   "cell_type": "code",
   "execution_count": 5,
   "metadata": {},
   "outputs": [
    {
     "name": "stdout",
     "output_type": "stream",
     "text": [
      "The total number of kmers is 64\n",
      "\n",
      "defaultdict(<class 'int'>, {'CGC': 1559638, 'GCT': 1560974, 'CTA': 1561037, 'TAC': 1560281, 'ACT': 1562490, 'CTT': 1560236, 'TTA': 1562619, 'TAG': 1562211, 'AGC': 1562164, 'GCG': 1560557, 'CGT': 1561716, 'GTT': 1565682, 'TTT': 1562456, 'TTC': 1562903, 'TCC': 1564439, 'CCA': 1563213, 'CAA': 1560923, 'AAG': 1560797, 'AGG': 1562203, 'GGC': 1560962, 'GCA': 1562912, 'CAT': 1563996, 'ATC': 1561943, 'TCG': 1561025, 'GTA': 1561072, 'TAA': 1561563, 'AAT': 1561338, 'TCT': 1560704, 'CGA': 1562071, 'GAG': 1562142, 'GGT': 1563309, 'GTG': 1561863, 'TGG': 1561859, 'TGC': 1562419, 'AGT': 1562456, 'GGG': 1561123, 'TTG': 1561664, 'TGT': 1563867, 'TGA': 1561642, 'GAT': 1561374, 'ATG': 1564166, 'GAA': 1562031, 'GCC': 1560705, 'CCG': 1562346, 'CTG': 1562106, 'CAG': 1563768, 'GGA': 1561380, 'AAA': 1560976, 'ACG': 1561056, 'CGG': 1561544, 'GTC': 1562720, 'ACA': 1564007, 'ATA': 1560994, 'GAC': 1561661, 'TAT': 1561658, 'ATT': 1561240, 'AGA': 1562050, 'ACC': 1561599, 'CCC': 1562540, 'CCT': 1561162, 'CTC': 1561955, 'TCA': 1563341, 'CAC': 1564734, 'AAC': 1562418})\n"
     ]
    }
   ],
   "source": [
    "print(\"The total number of kmers is \" + str(len(test.kmer_dict))+\"\\n\")\n",
    "print(test.kmer_dict)"
   ]
  },
  {
   "cell_type": "code",
   "execution_count": null,
   "metadata": {},
   "outputs": [],
   "source": []
  },
  {
   "cell_type": "code",
   "execution_count": null,
   "metadata": {},
   "outputs": [],
   "source": []
  }
 ],
 "metadata": {
  "kernelspec": {
   "display_name": "Python 3",
   "language": "python",
   "name": "python3"
  },
  "language_info": {
   "codemirror_mode": {
    "name": "ipython",
    "version": 3
   },
   "file_extension": ".py",
   "mimetype": "text/x-python",
   "name": "python",
   "nbconvert_exporter": "python",
   "pygments_lexer": "ipython3",
   "version": "3.6.3"
  }
 },
 "nbformat": 4,
 "nbformat_minor": 2
}
